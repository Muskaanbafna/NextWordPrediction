{
 "cells": [
  {
   "cell_type": "code",
   "execution_count": 7,
   "metadata": {},
   "outputs": [],
   "source": [
    "import pandas as pd\n",
    "import numpy as np\n",
    "import tensorflow as tf\n",
    "import pickle\n",
    "from tensorflow.keras.preprocessing.sequence import pad_sequences\n",
    "from tensorflow.keras.layers import Embedding, LSTM, Dense, Bidirectional\n",
    "from tensorflow.keras.preprocessing.text import Tokenizer\n",
    "from tensorflow.keras.models import Sequential\n",
    "from tensorflow.keras.optimizers import Adam"
   ]
  },
  {
   "cell_type": "code",
   "execution_count": 8,
   "metadata": {},
   "outputs": [],
   "source": [
    "medium_data = pd.read_csv('medium_data.csv')"
   ]
  },
  {
   "cell_type": "code",
   "execution_count": 9,
   "metadata": {},
   "outputs": [
    {
     "name": "stdout",
     "output_type": "stream",
     "text": [
      "Number of records:  6508\n",
      "Number of fields:  10\n"
     ]
    }
   ],
   "source": [
    "print(\"Number of records: \", medium_data.shape[0])\n",
    "print(\"Number of fields: \", medium_data.shape[1])"
   ]
  },
  {
   "cell_type": "code",
   "execution_count": 10,
   "metadata": {},
   "outputs": [
    {
     "name": "stdout",
     "output_type": "stream",
     "text": [
      "Total number of words:  10971\n",
      "Word: ID\n",
      "------------\n",
      "<oov>:  1\n",
      "Strong:  4\n",
      "And:  8\n",
      "Consumption:  10967\n"
     ]
    }
   ],
   "source": [
    "tokenizer = Tokenizer(oov_token='<oov>') # For those words which are not found in word_index\n",
    "tokenizer.fit_on_texts(medium_data['title'])\n",
    "total_words = len(tokenizer.word_index) + 1\n",
    "\n",
    "print(\"Total number of words: \", total_words)\n",
    "print(\"Word: ID\")\n",
    "print(\"------------\")\n",
    "print(\"<oov>: \", tokenizer.word_index['<oov>'])\n",
    "print(\"Strong: \", tokenizer.word_index['strong'])\n",
    "print(\"And: \", tokenizer.word_index['and'])\n",
    "print(\"Consumption: \", tokenizer.word_index['consumption'])"
   ]
  },
  {
   "cell_type": "code",
   "execution_count": 11,
   "metadata": {},
   "outputs": [
    {
     "name": "stdout",
     "output_type": "stream",
     "text": [
      "Total input sequences:  43439\n"
     ]
    }
   ],
   "source": [
    "input_sequences = []\n",
    "for line in medium_data['title']:\n",
    "    token_list = tokenizer.texts_to_sequences([line])[0]\n",
    "    #print(token_list)\n",
    "    \n",
    "    for i in range(1, len(token_list)):\n",
    "        n_gram_sequence = token_list[:i+1]\n",
    "        input_sequences.append(n_gram_sequence)\n",
    "\n",
    "# print(input_sequences)\n",
    "print(\"Total input sequences: \", len(input_sequences))"
   ]
  },
  {
   "cell_type": "code",
   "execution_count": 12,
   "metadata": {},
   "outputs": [
    {
     "data": {
      "text/plain": [
       "array([  0,   0,   0,   0,   0,   0,   0,   0,   0,   0,   0,   0,   0,\n",
       "         0,   0,   0,   0,   0,   0,   0,   0,   0,   0,   0,   0,   0,\n",
       "         0,   0,   0,   0,   0,   0,   0,   0,   0,   5, 566,  61])"
      ]
     },
     "execution_count": 12,
     "metadata": {},
     "output_type": "execute_result"
    }
   ],
   "source": [
    "# pad sequences \n",
    "max_sequence_len = max([len(x) for x in input_sequences])\n",
    "input_sequences = np.array(pad_sequences(input_sequences, maxlen=max_sequence_len, padding='pre'))\n",
    "input_sequences[1]"
   ]
  },
  {
   "cell_type": "code",
   "execution_count": 33,
   "metadata": {},
   "outputs": [],
   "source": [
    "with open('max_sequence_len.pickle', 'wb') as handle:\n",
    "    pickle.dump(max_sequence_len, handle, protocol=pickle.HIGHEST_PROTOCOL)"
   ]
  },
  {
   "cell_type": "code",
   "execution_count": 31,
   "metadata": {},
   "outputs": [
    {
     "name": "stdout",
     "output_type": "stream",
     "text": [
      "Tokenizer saved successfully.\n"
     ]
    }
   ],
   "source": [
    "import pickle\n",
    "# Save the tokenizer to a file using pickle\n",
    "with open('tokenizer.pickle', 'wb') as handle:\n",
    "    pickle.dump(tokenizer, handle, protocol=pickle.HIGHEST_PROTOCOL)\n",
    "\n",
    "# Confirm that the tokenizer has been saved\n",
    "print(\"Tokenizer saved successfully.\")"
   ]
  },
  {
   "cell_type": "code",
   "execution_count": 13,
   "metadata": {},
   "outputs": [],
   "source": [
    "# create features and label\n",
    "xs, labels = input_sequences[:,:-1],input_sequences[:,-1]\n",
    "ys = tf.keras.utils.to_categorical(labels, num_classes=total_words)"
   ]
  },
  {
   "cell_type": "code",
   "execution_count": 14,
   "metadata": {},
   "outputs": [
    {
     "name": "stdout",
     "output_type": "stream",
     "text": [
      "[   0    0    0    0    0    0    0    0    0    0    0    0    0    0\n",
      "    0    0    0    0    0    0    0    0    0    0    0    0    0    0\n",
      "    0    0    0    5  566   61    2  435 1310]\n",
      "15\n",
      "0.0\n"
     ]
    }
   ],
   "source": [
    "print(xs[5])\n",
    "print(labels[5])\n",
    "print(ys[5][14])"
   ]
  },
  {
   "cell_type": "code",
   "execution_count": 10,
   "metadata": {},
   "outputs": [
    {
     "name": "stdout",
     "output_type": "stream",
     "text": [
      "Epoch 1/60\n",
      "1358/1358 [==============================] - 144s 103ms/step - loss: 7.4320 - accuracy: 0.1200\n",
      "Epoch 2/60\n",
      "1358/1358 [==============================] - 141s 104ms/step - loss: 6.3633 - accuracy: 0.1659\n",
      "Epoch 3/60\n",
      "1358/1358 [==============================] - 140s 103ms/step - loss: 5.1767 - accuracy: 0.1933\n",
      "Epoch 4/60\n",
      "1358/1358 [==============================] - 141s 104ms/step - loss: 4.1529 - accuracy: 0.2523\n",
      "Epoch 5/60\n",
      "1358/1358 [==============================] - 141s 104ms/step - loss: 3.4510 - accuracy: 0.3229\n",
      "Epoch 6/60\n",
      "1358/1358 [==============================] - 141s 104ms/step - loss: 3.0118 - accuracy: 0.3786\n",
      "Epoch 7/60\n",
      "1358/1358 [==============================] - 141s 104ms/step - loss: 2.7318 - accuracy: 0.4170\n",
      "Epoch 8/60\n",
      "1358/1358 [==============================] - 141s 104ms/step - loss: 2.5068 - accuracy: 0.4532\n",
      "Epoch 9/60\n",
      "1358/1358 [==============================] - 141s 104ms/step - loss: 2.3844 - accuracy: 0.4705\n",
      "Epoch 10/60\n",
      "1358/1358 [==============================] - 141s 104ms/step - loss: 2.2951 - accuracy: 0.4842\n",
      "Epoch 11/60\n",
      "1358/1358 [==============================] - 141s 104ms/step - loss: 2.1881 - accuracy: 0.5046\n",
      "Epoch 12/60\n",
      "1358/1358 [==============================] - 140s 103ms/step - loss: 2.1279 - accuracy: 0.5161\n",
      "Epoch 13/60\n",
      "1358/1358 [==============================] - 141s 103ms/step - loss: 2.0660 - accuracy: 0.5249\n",
      "Epoch 14/60\n",
      "1358/1358 [==============================] - 140s 103ms/step - loss: 2.0491 - accuracy: 0.5291\n",
      "Epoch 15/60\n",
      "1358/1358 [==============================] - 140s 103ms/step - loss: 2.0015 - accuracy: 0.5392\n",
      "Epoch 16/60\n",
      "1358/1358 [==============================] - 140s 103ms/step - loss: 1.9748 - accuracy: 0.5440\n",
      "Epoch 17/60\n",
      "1358/1358 [==============================] - 140s 103ms/step - loss: 1.9584 - accuracy: 0.5462\n",
      "Epoch 18/60\n",
      "1358/1358 [==============================] - 140s 103ms/step - loss: 1.9363 - accuracy: 0.5544\n",
      "Epoch 19/60\n",
      "1358/1358 [==============================] - 140s 103ms/step - loss: 1.9048 - accuracy: 0.5602\n",
      "Epoch 20/60\n",
      "1358/1358 [==============================] - 139s 103ms/step - loss: 1.8915 - accuracy: 0.5625\n",
      "Epoch 21/60\n",
      "1358/1358 [==============================] - 140s 103ms/step - loss: 1.9502 - accuracy: 0.5548\n",
      "Epoch 22/60\n",
      "1358/1358 [==============================] - 140s 103ms/step - loss: 1.9418 - accuracy: 0.5566\n",
      "Epoch 23/60\n",
      "1358/1358 [==============================] - 140s 103ms/step - loss: 1.8864 - accuracy: 0.5661\n",
      "Epoch 24/60\n",
      "1358/1358 [==============================] - 140s 103ms/step - loss: 1.8858 - accuracy: 0.5648\n",
      "Epoch 25/60\n",
      "1358/1358 [==============================] - 140s 103ms/step - loss: 1.9432 - accuracy: 0.5541\n",
      "Epoch 26/60\n",
      "1358/1358 [==============================] - 140s 103ms/step - loss: 1.8598 - accuracy: 0.5695\n",
      "Epoch 27/60\n",
      "1358/1358 [==============================] - 140s 103ms/step - loss: 1.8637 - accuracy: 0.5678\n",
      "Epoch 28/60\n",
      "1358/1358 [==============================] - 140s 103ms/step - loss: 1.8806 - accuracy: 0.5681\n",
      "Epoch 29/60\n",
      "1358/1358 [==============================] - 140s 103ms/step - loss: 1.8927 - accuracy: 0.5667\n",
      "Epoch 30/60\n",
      "1358/1358 [==============================] - 140s 103ms/step - loss: 1.8316 - accuracy: 0.5766\n",
      "Epoch 31/60\n",
      "1358/1358 [==============================] - 140s 103ms/step - loss: 1.8558 - accuracy: 0.5717\n",
      "Epoch 32/60\n",
      "1358/1358 [==============================] - 140s 103ms/step - loss: 1.8287 - accuracy: 0.5794\n",
      "Epoch 33/60\n",
      "1358/1358 [==============================] - 140s 103ms/step - loss: 1.8054 - accuracy: 0.5849\n",
      "Epoch 34/60\n",
      "1358/1358 [==============================] - 140s 103ms/step - loss: 1.8104 - accuracy: 0.5842\n",
      "Epoch 35/60\n",
      "1358/1358 [==============================] - 140s 103ms/step - loss: 1.7991 - accuracy: 0.5862\n",
      "Epoch 36/60\n",
      "1358/1358 [==============================] - 140s 103ms/step - loss: 1.8023 - accuracy: 0.5876\n",
      "Epoch 37/60\n",
      "1358/1358 [==============================] - 140s 103ms/step - loss: 1.8038 - accuracy: 0.5868\n",
      "Epoch 38/60\n",
      "1358/1358 [==============================] - 140s 103ms/step - loss: 1.7972 - accuracy: 0.5872\n",
      "Epoch 39/60\n",
      "1358/1358 [==============================] - 140s 103ms/step - loss: 1.7823 - accuracy: 0.5897\n",
      "Epoch 40/60\n",
      "1358/1358 [==============================] - 140s 103ms/step - loss: 1.7919 - accuracy: 0.5892\n",
      "Epoch 41/60\n",
      "1358/1358 [==============================] - 140s 103ms/step - loss: 1.7755 - accuracy: 0.5932\n",
      "Epoch 42/60\n",
      "1358/1358 [==============================] - 140s 103ms/step - loss: 1.7854 - accuracy: 0.5913\n",
      "Epoch 43/60\n",
      "1358/1358 [==============================] - 140s 103ms/step - loss: 1.8256 - accuracy: 0.5874\n",
      "Epoch 44/60\n",
      "1358/1358 [==============================] - 140s 103ms/step - loss: 1.8556 - accuracy: 0.5851\n",
      "Epoch 45/60\n",
      "1358/1358 [==============================] - 140s 103ms/step - loss: 1.7848 - accuracy: 0.5914\n",
      "Epoch 46/60\n",
      "1358/1358 [==============================] - 140s 103ms/step - loss: 1.7544 - accuracy: 0.5991\n",
      "Epoch 47/60\n",
      "1358/1358 [==============================] - 140s 103ms/step - loss: 1.7594 - accuracy: 0.5998\n",
      "Epoch 48/60\n",
      "1358/1358 [==============================] - 140s 103ms/step - loss: 1.8304 - accuracy: 0.5901\n",
      "Epoch 49/60\n",
      "1358/1358 [==============================] - 140s 103ms/step - loss: 1.8498 - accuracy: 0.5887\n",
      "Epoch 50/60\n",
      "1358/1358 [==============================] - 140s 103ms/step - loss: 1.8020 - accuracy: 0.5939\n",
      "Epoch 51/60\n",
      "1358/1358 [==============================] - 140s 103ms/step - loss: 1.8142 - accuracy: 0.5952\n",
      "Epoch 52/60\n",
      "1358/1358 [==============================] - 140s 103ms/step - loss: 1.7854 - accuracy: 0.5995\n",
      "Epoch 53/60\n",
      "1358/1358 [==============================] - 140s 103ms/step - loss: 1.7575 - accuracy: 0.6002\n",
      "Epoch 54/60\n",
      "1358/1358 [==============================] - 140s 103ms/step - loss: 1.7356 - accuracy: 0.6074\n",
      "Epoch 55/60\n",
      "1358/1358 [==============================] - 140s 103ms/step - loss: 1.7174 - accuracy: 0.6085\n",
      "Epoch 56/60\n",
      "1358/1358 [==============================] - 140s 103ms/step - loss: 1.7471 - accuracy: 0.6038\n",
      "Epoch 57/60\n",
      "1358/1358 [==============================] - 140s 103ms/step - loss: 1.6895 - accuracy: 0.6146\n",
      "Epoch 58/60\n",
      "1358/1358 [==============================] - 140s 103ms/step - loss: 1.6724 - accuracy: 0.6183\n",
      "Epoch 59/60\n",
      "1358/1358 [==============================] - 140s 103ms/step - loss: 1.7321 - accuracy: 0.6077\n",
      "Epoch 60/60\n",
      "1358/1358 [==============================] - 140s 103ms/step - loss: 1.7596 - accuracy: 0.6049\n",
      "<keras.engine.sequential.Sequential object at 0x0000020AB77D9D30>\n"
     ]
    }
   ],
   "source": [
    "model = Sequential()\n",
    "model.add(Embedding(total_words, 100, input_length=max_sequence_len-1))\n",
    "model.add(Bidirectional(LSTM(170)))\n",
    "model.add(Dense(total_words, activation='softmax'))\n",
    "adam = Adam(lr=0.01)\n",
    "model.compile(loss='categorical_crossentropy', optimizer=adam, metrics=['accuracy'])\n",
    "history = model.fit(xs, ys, epochs=60, verbose=1)\n",
    "#print model.summary()\n",
    "print(model)"
   ]
  },
  {
   "cell_type": "code",
   "execution_count": null,
   "metadata": {},
   "outputs": [],
   "source": [
    "from tensorflow.python.client import device_lib\n",
    "print(device_lib.list_local_devices())"
   ]
  },
  {
   "cell_type": "code",
   "execution_count": 11,
   "metadata": {},
   "outputs": [],
   "source": [
    "import matplotlib.pyplot as plt\n",
    "\n",
    "\n",
    "def plot_graphs(history, string):\n",
    "    plt.plot(history.history[string])\n",
    "    plt.xlabel(\"Epochs\")\n",
    "    plt.ylabel(string)\n",
    "    plt.show()"
   ]
  },
  {
   "cell_type": "code",
   "execution_count": 12,
   "metadata": {},
   "outputs": [
    {
     "data": {
      "image/png": "[encoded data removed]",
      "text/plain": [
       "<Figure size 640x480 with 1 Axes>"
      ]
     },
     "metadata": {},
     "output_type": "display_data"
    }
   ],
   "source": [
    "plot_graphs(history, 'accuracy')"
   ]
  },
  {
   "cell_type": "code",
   "execution_count": 13,
   "metadata": {},
   "outputs": [
    {
     "data": {
      "image/png": "[encoded data removed]",
      "text/plain": [
       "<Figure size 640x480 with 1 Axes>"
      ]
     },
     "metadata": {},
     "output_type": "display_data"
    }
   ],
   "source": [
    "plot_graphs(history, 'loss')"
   ]
  },
  {
   "cell_type": "code",
   "execution_count": null,
   "metadata": {},
   "outputs": [],
   "source": [
    "import numpy as np\n",
    "\n",
    "seed_text = \"implementation of\"\n",
    "next_words = 2\n",
    "  \n",
    "for _ in range(next_words):\n",
    "    token_list = tokenizer.texts_to_sequences([seed_text])[0]\n",
    "    token_list = pad_sequences([token_list], padding='pre')\n",
    "    \n",
    "    # Use model.predict instead of model.predict_classes\n",
    "    predicted_probabilities = model.predict(token_list, verbose=0)\n",
    "    \n",
    "    # Find the index of the word with the highest probability\n",
    "    predicted_index = np.argmax(predicted_probabilities)\n",
    "    \n",
    "    output_word = \"\"\n",
    "    for word, index in tokenizer.word_index.items():\n",
    "        if index == predicted_index:\n",
    "            output_word = word\n",
    "            break\n",
    "            \n",
    "    seed_text += \" \" + output_word\n",
    "\n",
    "print(seed_text)\n"
   ]
  },
  {
   "cell_type": "code",
   "execution_count": 23,
   "metadata": {},
   "outputs": [
    {
     "name": "stdout",
     "output_type": "stream",
     "text": [
      "I am not happy with how far\n"
     ]
    }
   ],
   "source": [
    "seed_text = \"I am not happy with how\"\n",
    "next_words = 1\n",
    "  \n",
    "for _ in range(next_words):\n",
    "    token_list = tokenizer.texts_to_sequences([seed_text])[0]\n",
    "    token_list = pad_sequences([token_list], maxlen=max_sequence_len-1, padding='pre')\n",
    "    \n",
    "    # Use model.predict instead of model.predict_classes\n",
    "    predicted_probabilities = model.predict(token_list, verbose=0)\n",
    "    \n",
    "    # Find the index of the word with the highest probability\n",
    "    predicted_index = np.argmax(predicted_probabilities)\n",
    "    \n",
    "    output_word = \"\"\n",
    "    for word, index in tokenizer.word_index.items():\n",
    "        if index == predicted_index:\n",
    "            output_word = word\n",
    "            break\n",
    "            \n",
    "    seed_text += \" \" + output_word\n",
    "\n",
    "print(seed_text)"
   ]
  },
  {
   "cell_type": "code",
   "execution_count": null,
   "metadata": {},
   "outputs": [],
   "source": [
    "seed_text = \"I am not happy with how\"\n",
    "next_words = 1\n",
    "  \n",
    "for _ in range(next_words):\n",
    "    token_list = tokenizer.texts_to_sequences([seed_text])[0]\n",
    "    token_list = pad_sequences([token_list], maxlen=max_sequence_len-1, padding='pre')\n",
    "    \n",
    "    # Use model.predict instead of model.predict_classes\n",
    "    predicted_probabilities = model.predict(token_list, verbose=0)\n",
    "    \n",
    "    # Find the index of the word with the highest probability\n",
    "    predicted_index = np.argmax(predicted_probabilities)\n",
    "    \n",
    "    output_word = \"\"\n",
    "    for word, index in tokenizer.word_index.items():\n",
    "        if index == predicted_index:\n",
    "            output_word = word\n",
    "            break\n",
    "            \n",
    "    seed_text += \" \" + output_word\n",
    "\n",
    "print(seed_text)"
   ]
  },
  {
   "cell_type": "code",
   "execution_count": 14,
   "metadata": {},
   "outputs": [],
   "source": [
    "from tensorflow.keras.models import load_model\n",
    "model = load_model('word_model.h5')"
   ]
  }
 ],
 "metadata": {
  "accelerator": "GPU",
  "colab": {
   "gpuType": "T4",
   "provenance": []
  },
  "kernelspec": {
   "display_name": "Python 3 (ipykernel)",
   "language": "python",
   "name": "python3"
  },
  "language_info": {
   "codemirror_mode": {
    "name": "ipython",
    "version": 3
   },
   "file_extension": ".py",
   "mimetype": "text/x-python",
   "name": "python",
   "nbconvert_exporter": "python",
   "pygments_lexer": "ipython3",
   "version": "3.11.1"
  }
 },
 "nbformat": 4,
 "nbformat_minor": 1
}
